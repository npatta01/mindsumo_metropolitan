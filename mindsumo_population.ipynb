{
 "metadata": {
  "name": ""
 },
 "nbformat": 3,
 "nbformat_minor": 0,
 "worksheets": [
  {
   "cells": [
    {
     "cell_type": "code",
     "collapsed": false,
     "input": [
      "ls"
     ],
     "language": "python",
     "metadata": {},
     "outputs": [
      {
       "output_type": "stream",
       "stream": "stdout",
       "text": [
        " Volume in drive E is Data\n",
        " Volume Serial Number is FEC4-F773\n",
        "\n",
        " Directory of E:\\Copy\\mindsumo\n",
        "\n",
        "01/22/2014  06:34 PM    <DIR>          .\n",
        "01/22/2014  06:34 PM    <DIR>          ..\n",
        "01/22/2014  04:01 PM           807,699 Metropolitan_Populations__2010-2012_.csv\n",
        "01/22/2014  06:34 PM                98 Untitled0.ipynb\n",
        "               2 File(s)        807,797 bytes\n",
        "               2 Dir(s)  221,402,607,616 bytes free\n"
       ]
      }
     ],
     "prompt_number": 1
    },
    {
     "cell_type": "code",
     "collapsed": false,
     "input": [
      "import pandas as pd"
     ],
     "language": "python",
     "metadata": {},
     "outputs": [],
     "prompt_number": 4
    },
    {
     "cell_type": "code",
     "collapsed": false,
     "input": [
      "min_pop=50000\n",
      "data = pd.read_csv('Metropolitan_Populations__2010-2012_.csv')\n",
      "\n"
     ],
     "language": "python",
     "metadata": {},
     "outputs": [],
     "prompt_number": 12
    },
    {
     "cell_type": "code",
     "collapsed": false,
     "input": [
      "data.head(5)\n",
      "data.shape"
     ],
     "language": "python",
     "metadata": {},
     "outputs": [
      {
       "metadata": {},
       "output_type": "pyout",
       "prompt_number": 16,
       "text": [
        "(19516, 4)"
       ]
      }
     ],
     "prompt_number": 16
    },
    {
     "cell_type": "code",
     "collapsed": false,
     "input": [
      "data['state']=data['Geography'].map(lambda x: x.split(',')[1].strip())\n",
      "data_filtered = data[data['2010 Population'] > min_pop] \n",
      "\n",
      "data_filtered.shape"
     ],
     "language": "python",
     "metadata": {},
     "outputs": [
      {
       "metadata": {},
       "output_type": "pyout",
       "prompt_number": 48,
       "text": [
        "(713, 5)"
       ]
      }
     ],
     "prompt_number": 48
    },
    {
     "cell_type": "code",
     "collapsed": false,
     "input": [
      "data_filtered['pop_change'] = (data_filtered['2012 Population'] - data_filtered['2010 Population'])/ data_filtered['2010 Population'] "
     ],
     "language": "python",
     "metadata": {},
     "outputs": [],
     "prompt_number": 49
    },
    {
     "cell_type": "code",
     "collapsed": false,
     "input": [
      "data_filtered.head(5)"
     ],
     "language": "python",
     "metadata": {},
     "outputs": [
      {
       "html": [
        "<div style=\"max-height:1000px;max-width:1500px;overflow:auto;\">\n",
        "<table border=\"1\" class=\"dataframe\">\n",
        "  <thead>\n",
        "    <tr style=\"text-align: right;\">\n",
        "      <th></th>\n",
        "      <th>Geography</th>\n",
        "      <th>2010 Population</th>\n",
        "      <th>2011 Population</th>\n",
        "      <th>2012 Population</th>\n",
        "      <th>state</th>\n",
        "      <th>pop_change</th>\n",
        "    </tr>\n",
        "  </thead>\n",
        "  <tbody>\n",
        "    <tr>\n",
        "      <th>24 </th>\n",
        "      <td>     Auburn city, Alabama</td>\n",
        "      <td>  53856</td>\n",
        "      <td>  54872</td>\n",
        "      <td>  56908</td>\n",
        "      <td> Alabama</td>\n",
        "      <td> 0.056670</td>\n",
        "    </tr>\n",
        "    <tr>\n",
        "      <th>41 </th>\n",
        "      <td> Birmingham city, Alabama</td>\n",
        "      <td> 212149</td>\n",
        "      <td> 212411</td>\n",
        "      <td> 212038</td>\n",
        "      <td> Alabama</td>\n",
        "      <td>-0.000523</td>\n",
        "    </tr>\n",
        "    <tr>\n",
        "      <th>108</th>\n",
        "      <td>    Decatur city, Alabama</td>\n",
        "      <td>  55711</td>\n",
        "      <td>  55858</td>\n",
        "      <td>  55996</td>\n",
        "      <td> Alabama</td>\n",
        "      <td> 0.005116</td>\n",
        "    </tr>\n",
        "    <tr>\n",
        "      <th>113</th>\n",
        "      <td>     Dothan city, Alabama</td>\n",
        "      <td>  66113</td>\n",
        "      <td>  66666</td>\n",
        "      <td>  67382</td>\n",
        "      <td> Alabama</td>\n",
        "      <td> 0.019194</td>\n",
        "    </tr>\n",
        "    <tr>\n",
        "      <th>211</th>\n",
        "      <td>     Hoover city, Alabama</td>\n",
        "      <td>  81276</td>\n",
        "      <td>  81955</td>\n",
        "      <td>  83412</td>\n",
        "      <td> Alabama</td>\n",
        "      <td> 0.026281</td>\n",
        "    </tr>\n",
        "  </tbody>\n",
        "</table>\n",
        "<p>5 rows \u00d7 6 columns</p>\n",
        "</div>"
       ],
       "metadata": {},
       "output_type": "pyout",
       "prompt_number": 47,
       "text": [
        "                    Geography  2010 Population  2011 Population  \\\n",
        "24       Auburn city, Alabama            53856            54872   \n",
        "41   Birmingham city, Alabama           212149           212411   \n",
        "108     Decatur city, Alabama            55711            55858   \n",
        "113      Dothan city, Alabama            66113            66666   \n",
        "211      Hoover city, Alabama            81276            81955   \n",
        "\n",
        "     2012 Population    state  pop_change  \n",
        "24             56908  Alabama    0.056670  \n",
        "41            212038  Alabama   -0.000523  \n",
        "108            55996  Alabama    0.005116  \n",
        "113            67382  Alabama    0.019194  \n",
        "211            83412  Alabama    0.026281  \n",
        "\n",
        "[5 rows x 6 columns]"
       ]
      }
     ],
     "prompt_number": 47
    },
    {
     "cell_type": "code",
     "collapsed": false,
     "input": [
      "result = data_filtered.sort(['pop_change'])"
     ],
     "language": "python",
     "metadata": {},
     "outputs": [],
     "prompt_number": 27
    },
    {
     "cell_type": "code",
     "collapsed": false,
     "input": [
      "top5_decline=result[0:5]\n",
      "top5_increase=result[-5:]"
     ],
     "language": "python",
     "metadata": {},
     "outputs": [],
     "prompt_number": 34
    },
    {
     "cell_type": "code",
     "collapsed": false,
     "input": [
      "top5_decline"
     ],
     "language": "python",
     "metadata": {},
     "outputs": [
      {
       "html": [
        "<div style=\"max-height:1000px;max-width:1500px;overflow:auto;\">\n",
        "<table border=\"1\" class=\"dataframe\">\n",
        "  <thead>\n",
        "    <tr style=\"text-align: right;\">\n",
        "      <th></th>\n",
        "      <th>Geography</th>\n",
        "      <th>2010 Population</th>\n",
        "      <th>2011 Population</th>\n",
        "      <th>2012 Population</th>\n",
        "      <th>pop_change</th>\n",
        "    </tr>\n",
        "  </thead>\n",
        "  <tbody>\n",
        "    <tr>\n",
        "      <th>12187</th>\n",
        "      <td> Jacksonville city, North Carolina</td>\n",
        "      <td>  70845</td>\n",
        "      <td>  67939</td>\n",
        "      <td>  69220</td>\n",
        "      <td>-0.022937</td>\n",
        "    </tr>\n",
        "    <tr>\n",
        "      <th>13793</th>\n",
        "      <td>             Youngstown city, Ohio</td>\n",
        "      <td>  66831</td>\n",
        "      <td>  65781</td>\n",
        "      <td>  65405</td>\n",
        "      <td>-0.021337</td>\n",
        "    </tr>\n",
        "    <tr>\n",
        "      <th>7752 </th>\n",
        "      <td>              Flint city, Michigan</td>\n",
        "      <td> 102259</td>\n",
        "      <td> 101457</td>\n",
        "      <td> 100515</td>\n",
        "      <td>-0.017055</td>\n",
        "    </tr>\n",
        "    <tr>\n",
        "      <th>9709 </th>\n",
        "      <td>             Joplin city, Missouri</td>\n",
        "      <td>  50303</td>\n",
        "      <td>  50475</td>\n",
        "      <td>  49526</td>\n",
        "      <td>-0.015446</td>\n",
        "    </tr>\n",
        "    <tr>\n",
        "      <th>7710 </th>\n",
        "      <td>            Detroit city, Michigan</td>\n",
        "      <td> 711744</td>\n",
        "      <td> 706201</td>\n",
        "      <td> 701475</td>\n",
        "      <td>-0.014428</td>\n",
        "    </tr>\n",
        "  </tbody>\n",
        "</table>\n",
        "<p>5 rows \u00d7 5 columns</p>\n",
        "</div>"
       ],
       "metadata": {},
       "output_type": "pyout",
       "prompt_number": 35,
       "text": [
        "                               Geography  2010 Population  2011 Population  \\\n",
        "12187  Jacksonville city, North Carolina            70845            67939   \n",
        "13793              Youngstown city, Ohio            66831            65781   \n",
        "7752                Flint city, Michigan           102259           101457   \n",
        "9709               Joplin city, Missouri            50303            50475   \n",
        "7710              Detroit city, Michigan           711744           706201   \n",
        "\n",
        "       2012 Population  pop_change  \n",
        "12187            69220   -0.022937  \n",
        "13793            65405   -0.021337  \n",
        "7752            100515   -0.017055  \n",
        "9709             49526   -0.015446  \n",
        "7710            701475   -0.014428  \n",
        "\n",
        "[5 rows x 5 columns]"
       ]
      }
     ],
     "prompt_number": 35
    },
    {
     "cell_type": "code",
     "collapsed": false,
     "input": [
      "top5_increase"
     ],
     "language": "python",
     "metadata": {},
     "outputs": [
      {
       "html": [
        "<div style=\"max-height:1000px;max-width:1500px;overflow:auto;\">\n",
        "<table border=\"1\" class=\"dataframe\">\n",
        "  <thead>\n",
        "    <tr style=\"text-align: right;\">\n",
        "      <th></th>\n",
        "      <th>Geography</th>\n",
        "      <th>2010 Population</th>\n",
        "      <th>2011 Population</th>\n",
        "      <th>2012 Population</th>\n",
        "      <th>pop_change</th>\n",
        "    </tr>\n",
        "  </thead>\n",
        "  <tbody>\n",
        "    <tr>\n",
        "      <th>17239</th>\n",
        "      <td>    McKinney city, Texas</td>\n",
        "      <td> 132881</td>\n",
        "      <td> 137778</td>\n",
        "      <td> 143223</td>\n",
        "      <td> 0.077829</td>\n",
        "    </tr>\n",
        "    <tr>\n",
        "      <th>18490</th>\n",
        "      <td>  Pasco city, Washington</td>\n",
        "      <td>  60581</td>\n",
        "      <td>  63226</td>\n",
        "      <td>  65398</td>\n",
        "      <td> 0.079513</td>\n",
        "    </tr>\n",
        "    <tr>\n",
        "      <th>16956</th>\n",
        "      <td>      Frisco city, Texas</td>\n",
        "      <td> 118041</td>\n",
        "      <td> 123341</td>\n",
        "      <td> 128176</td>\n",
        "      <td> 0.085860</td>\n",
        "    </tr>\n",
        "    <tr>\n",
        "      <th>17993</th>\n",
        "      <td> South Jordan city, Utah</td>\n",
        "      <td>  51270</td>\n",
        "      <td>  53338</td>\n",
        "      <td>  55934</td>\n",
        "      <td> 0.090969</td>\n",
        "    </tr>\n",
        "    <tr>\n",
        "      <th>16759</th>\n",
        "      <td>  Cedar Park city, Texas</td>\n",
        "      <td>  52417</td>\n",
        "      <td>  55369</td>\n",
        "      <td>  57957</td>\n",
        "      <td> 0.105691</td>\n",
        "    </tr>\n",
        "  </tbody>\n",
        "</table>\n",
        "<p>5 rows \u00d7 5 columns</p>\n",
        "</div>"
       ],
       "metadata": {},
       "output_type": "pyout",
       "prompt_number": 36,
       "text": [
        "                     Geography  2010 Population  2011 Population  \\\n",
        "17239     McKinney city, Texas           132881           137778   \n",
        "18490   Pasco city, Washington            60581            63226   \n",
        "16956       Frisco city, Texas           118041           123341   \n",
        "17993  South Jordan city, Utah            51270            53338   \n",
        "16759   Cedar Park city, Texas            52417            55369   \n",
        "\n",
        "       2012 Population  pop_change  \n",
        "17239           143223    0.077829  \n",
        "18490            65398    0.079513  \n",
        "16956           128176    0.085860  \n",
        "17993            55934    0.090969  \n",
        "16759            57957    0.105691  \n",
        "\n",
        "[5 rows x 5 columns]"
       ]
      }
     ],
     "prompt_number": 36
    },
    {
     "cell_type": "code",
     "collapsed": false,
     "input": [
      "by_state=data_filtered.groupby('state')"
     ],
     "language": "python",
     "metadata": {},
     "outputs": [],
     "prompt_number": 51
    },
    {
     "cell_type": "code",
     "collapsed": false,
     "input": [
      "by_state_agg=by_state.sum()\n",
      "by_state_agg['pop_change'] = (by_state_agg['2012 Population'] - by_state_agg['2010 Population'])/ by_state_agg['2010 Population'] \n",
      "\n",
      "result_state = by_state_agg.sort(['pop_change'])\n",
      "top5_decline=result_state[0:5]\n",
      "top5_increase=result_state[-5:]"
     ],
     "language": "python",
     "metadata": {},
     "outputs": [],
     "prompt_number": 55
    },
    {
     "cell_type": "code",
     "collapsed": false,
     "input": [
      "top5_decline\n"
     ],
     "language": "python",
     "metadata": {},
     "outputs": [
      {
       "html": [
        "<div style=\"max-height:1000px;max-width:1500px;overflow:auto;\">\n",
        "<table border=\"1\" class=\"dataframe\">\n",
        "  <thead>\n",
        "    <tr style=\"text-align: right;\">\n",
        "      <th></th>\n",
        "      <th>2010 Population</th>\n",
        "      <th>2011 Population</th>\n",
        "      <th>2012 Population</th>\n",
        "      <th>pop_change</th>\n",
        "    </tr>\n",
        "    <tr>\n",
        "      <th>state</th>\n",
        "      <th></th>\n",
        "      <th></th>\n",
        "      <th></th>\n",
        "      <th></th>\n",
        "    </tr>\n",
        "  </thead>\n",
        "  <tbody>\n",
        "    <tr>\n",
        "      <th>West Virginia</th>\n",
        "      <td>   51318</td>\n",
        "      <td>   51053</td>\n",
        "      <td>   51018</td>\n",
        "      <td>-0.005846</td>\n",
        "    </tr>\n",
        "    <tr>\n",
        "      <th>Michigan</th>\n",
        "      <td> 2678864</td>\n",
        "      <td> 2675393</td>\n",
        "      <td> 2675132</td>\n",
        "      <td>-0.001393</td>\n",
        "    </tr>\n",
        "    <tr>\n",
        "      <th>Rhode Island</th>\n",
        "      <td>  412317</td>\n",
        "      <td>  412105</td>\n",
        "      <td>  412004</td>\n",
        "      <td>-0.000759</td>\n",
        "    </tr>\n",
        "    <tr>\n",
        "      <th>Maine</th>\n",
        "      <td>   66088</td>\n",
        "      <td>   66139</td>\n",
        "      <td>   66214</td>\n",
        "      <td> 0.001907</td>\n",
        "    </tr>\n",
        "    <tr>\n",
        "      <th>Ohio</th>\n",
        "      <td> 2682345</td>\n",
        "      <td> 2682159</td>\n",
        "      <td> 2687491</td>\n",
        "      <td> 0.001918</td>\n",
        "    </tr>\n",
        "  </tbody>\n",
        "</table>\n",
        "<p>5 rows \u00d7 4 columns</p>\n",
        "</div>"
       ],
       "metadata": {},
       "output_type": "pyout",
       "prompt_number": 58,
       "text": [
        "               2010 Population  2011 Population  2012 Population  pop_change\n",
        "state                                                                       \n",
        "West Virginia            51318            51053            51018   -0.005846\n",
        "Michigan               2678864          2675393          2675132   -0.001393\n",
        "Rhode Island            412317           412105           412004   -0.000759\n",
        "Maine                    66088            66139            66214    0.001907\n",
        "Ohio                   2682345          2682159          2687491    0.001918\n",
        "\n",
        "[5 rows x 4 columns]"
       ]
      }
     ],
     "prompt_number": 58
    },
    {
     "cell_type": "code",
     "collapsed": false,
     "input": [
      "top5_increase"
     ],
     "language": "python",
     "metadata": {},
     "outputs": [
      {
       "html": [
        "<div style=\"max-height:1000px;max-width:1500px;overflow:auto;\">\n",
        "<table border=\"1\" class=\"dataframe\">\n",
        "  <thead>\n",
        "    <tr style=\"text-align: right;\">\n",
        "      <th></th>\n",
        "      <th>2010 Population</th>\n",
        "      <th>2011 Population</th>\n",
        "      <th>2012 Population</th>\n",
        "      <th>pop_change</th>\n",
        "    </tr>\n",
        "    <tr>\n",
        "      <th>state</th>\n",
        "      <th></th>\n",
        "      <th></th>\n",
        "      <th></th>\n",
        "      <th></th>\n",
        "    </tr>\n",
        "  </thead>\n",
        "  <tbody>\n",
        "    <tr>\n",
        "      <th>Colorado</th>\n",
        "      <td>  2637131</td>\n",
        "      <td>  2682543</td>\n",
        "      <td>  2728080</td>\n",
        "      <td> 0.034488</td>\n",
        "    </tr>\n",
        "    <tr>\n",
        "      <th>Texas</th>\n",
        "      <td> 13081976</td>\n",
        "      <td> 13296881</td>\n",
        "      <td> 13543165</td>\n",
        "      <td> 0.035254</td>\n",
        "    </tr>\n",
        "    <tr>\n",
        "      <th>Georgia</th>\n",
        "      <td>  1781248</td>\n",
        "      <td>  1810767</td>\n",
        "      <td>  1846462</td>\n",
        "      <td> 0.036611</td>\n",
        "    </tr>\n",
        "    <tr>\n",
        "      <th>Wyoming</th>\n",
        "      <td>   115022</td>\n",
        "      <td>   116308</td>\n",
        "      <td>   119350</td>\n",
        "      <td> 0.037628</td>\n",
        "    </tr>\n",
        "    <tr>\n",
        "      <th>District of Columbia</th>\n",
        "      <td>   604989</td>\n",
        "      <td>   619020</td>\n",
        "      <td>   632323</td>\n",
        "      <td> 0.045181</td>\n",
        "    </tr>\n",
        "  </tbody>\n",
        "</table>\n",
        "<p>5 rows \u00d7 4 columns</p>\n",
        "</div>"
       ],
       "metadata": {},
       "output_type": "pyout",
       "prompt_number": 59,
       "text": [
        "                      2010 Population  2011 Population  2012 Population  \\\n",
        "state                                                                     \n",
        "Colorado                      2637131          2682543          2728080   \n",
        "Texas                        13081976         13296881         13543165   \n",
        "Georgia                       1781248          1810767          1846462   \n",
        "Wyoming                        115022           116308           119350   \n",
        "District of Columbia           604989           619020           632323   \n",
        "\n",
        "                      pop_change  \n",
        "state                             \n",
        "Colorado                0.034488  \n",
        "Texas                   0.035254  \n",
        "Georgia                 0.036611  \n",
        "Wyoming                 0.037628  \n",
        "District of Columbia    0.045181  \n",
        "\n",
        "[5 rows x 4 columns]"
       ]
      }
     ],
     "prompt_number": 59
    },
    {
     "cell_type": "code",
     "collapsed": false,
     "input": [],
     "language": "python",
     "metadata": {},
     "outputs": []
    }
   ],
   "metadata": {}
  }
 ]
}